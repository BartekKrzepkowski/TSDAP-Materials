{
 "cells": [
  {
   "cell_type": "markdown",
   "id": "excessive-motivation",
   "metadata": {},
   "source": [
    "Zadania:\n",
    "\n",
    ">1. Napisz wyrażenie do którego pasuje imię i nazwisko (Dwa słowa, każde z dużej litery):\n",
    "\n",
    ">>1.1. Tylko alfabet łaciński\n",
    "\n",
    ">>1.2. Wszystkie możliwe litery z polskiego alfabetu\n",
    "\n",
    ">2. Napisz wyrażenie które pasuje do kodu pocztowego (XX-XXX)\n",
    "\n",
    ">3. Napisz wyrażenie które pasuje do numer telefonu komórkowego z kodem kierunkowym (Od jednej do trzech cyfr z plusem jako prefix).\n",
    "\n",
    ">4. Napisz wyrażenie które pasuje do 6 cyfrowych palindromów"
   ]
  },
  {
   "cell_type": "markdown",
   "id": "indoor-produce",
   "metadata": {},
   "source": [
    "## 1. Napisz wyrażenie do którego pasuje imię i nazwisko (Dwa słowa, każde z dużej litery):"
   ]
  },
  {
   "cell_type": "markdown",
   "id": "twenty-thanks",
   "metadata": {},
   "source": [
    "#### 1.1. Tylko alfabet łaciński"
   ]
  },
  {
   "cell_type": "code",
   "execution_count": 1,
   "id": "fundamental-drive",
   "metadata": {},
   "outputs": [],
   "source": [
    "reg11 = r'[A-Z][a-z]+ [A-Z][a-z]+'"
   ]
  },
  {
   "cell_type": "markdown",
   "id": "flexible-tulsa",
   "metadata": {},
   "source": [
    "#### 1.2. Wszystkie możliwe litery z polskiego alfabetu"
   ]
  },
  {
   "cell_type": "code",
   "execution_count": 2,
   "id": "charitable-cassette",
   "metadata": {},
   "outputs": [],
   "source": [
    "reg12 = r'[A-ZĄĆĘŁŃÓŚŹŻ][a-ząćęłńóśźż]+ [A-ZĄĆĘŁŃÓŚŹŻ][a-ząćęłńóśźż]+'"
   ]
  },
  {
   "cell_type": "markdown",
   "id": "blind-poker",
   "metadata": {},
   "source": [
    "## 2. Napisz wyrażenie które pasuje do kodu pocztowego (XX-XXX)"
   ]
  },
  {
   "cell_type": "code",
   "execution_count": 3,
   "id": "medium-republican",
   "metadata": {},
   "outputs": [],
   "source": [
    "reg2 = r'\\d\\d-\\d\\d\\d'"
   ]
  },
  {
   "cell_type": "markdown",
   "id": "august-melbourne",
   "metadata": {},
   "source": [
    "## 3. Napisz wyrażenie które pasuje do numer telefonu komórkowego z kodem kierunkowym (Od jednej do trzech cyfr z plusem jako prefix)."
   ]
  },
  {
   "cell_type": "code",
   "execution_count": 4,
   "id": "forward-carolina",
   "metadata": {},
   "outputs": [],
   "source": [
    "reg3 = r'\\+\\d{1,3} \\d{9}'"
   ]
  },
  {
   "cell_type": "markdown",
   "id": "affected-ribbon",
   "metadata": {},
   "source": [
    "## 4. Napisz wyrażenie które pasuje do 6 cyfrowych palindromów"
   ]
  },
  {
   "cell_type": "code",
   "execution_count": 5,
   "id": "close-qatar",
   "metadata": {},
   "outputs": [],
   "source": [
    "reg4 = r'\\b(.)(.)(.)\\3\\2\\1\\b'"
   ]
  },
  {
   "cell_type": "markdown",
   "id": "christian-province",
   "metadata": {},
   "source": [
    "# Tests"
   ]
  },
  {
   "cell_type": "code",
   "execution_count": 6,
   "id": "available-authentication",
   "metadata": {},
   "outputs": [],
   "source": [
    "import regex"
   ]
  },
  {
   "cell_type": "code",
   "execution_count": 7,
   "id": "56410f4b-1420-4522-99cd-bffa1af4589d",
   "metadata": {},
   "outputs": [],
   "source": [
    "text = 'Czasami jest tak, że Tomasz Kot, zamieszkały pod miejscowością o kodzie pocztowym 40-459,'\\\n",
    "    'jest mężniejszy niż jikkij, znany również jako Cętek Żak o numerze telefonu +48 608686345.'"
   ]
  },
  {
   "cell_type": "markdown",
   "id": "2c7ca25b-3d66-47d6-8a3b-3fdc4d84c32f",
   "metadata": {},
   "source": [
    "#### ad. 1.1"
   ]
  },
  {
   "cell_type": "code",
   "execution_count": 8,
   "id": "c2716e1d-d85a-4e13-9134-9c755f023baa",
   "metadata": {},
   "outputs": [
    {
     "data": {
      "text/plain": [
       "['Tomasz Kot']"
      ]
     },
     "execution_count": 8,
     "metadata": {},
     "output_type": "execute_result"
    }
   ],
   "source": [
    "regex.findall(reg11, text)"
   ]
  },
  {
   "cell_type": "markdown",
   "id": "91bcb5c7-ff63-40d7-9d65-bd3deea9c13c",
   "metadata": {},
   "source": [
    "#### ad. 1.2"
   ]
  },
  {
   "cell_type": "code",
   "execution_count": 9,
   "id": "b24b82f9-60f7-4ce2-87c9-8fdcd18c5aff",
   "metadata": {},
   "outputs": [
    {
     "data": {
      "text/plain": [
       "['Tomasz Kot', 'Cętek Żak']"
      ]
     },
     "execution_count": 9,
     "metadata": {},
     "output_type": "execute_result"
    }
   ],
   "source": [
    "regex.findall(reg12, text)"
   ]
  },
  {
   "cell_type": "markdown",
   "id": "743e3f0f-adcc-4dce-bca2-0b1e2cd67035",
   "metadata": {},
   "source": [
    "#### ad. 2"
   ]
  },
  {
   "cell_type": "code",
   "execution_count": 10,
   "id": "355ebb4c-e3c3-418e-88cc-af2f0295c4e5",
   "metadata": {},
   "outputs": [
    {
     "data": {
      "text/plain": [
       "['40-459']"
      ]
     },
     "execution_count": 10,
     "metadata": {},
     "output_type": "execute_result"
    }
   ],
   "source": [
    "regex.findall(reg2, text)"
   ]
  },
  {
   "cell_type": "markdown",
   "id": "0ccf4610-0605-4963-b93f-2fb4d4b59956",
   "metadata": {},
   "source": [
    "#### ad. 3"
   ]
  },
  {
   "cell_type": "code",
   "execution_count": 11,
   "id": "df38dfa6-adca-47e7-b095-6594c9048809",
   "metadata": {},
   "outputs": [
    {
     "data": {
      "text/plain": [
       "['+48 608686345']"
      ]
     },
     "execution_count": 11,
     "metadata": {},
     "output_type": "execute_result"
    }
   ],
   "source": [
    "regex.findall(reg3, text)"
   ]
  },
  {
   "cell_type": "markdown",
   "id": "28283ff8-218b-4faa-8450-c7441ffdb2a2",
   "metadata": {},
   "source": [
    "#### ad. 4"
   ]
  },
  {
   "cell_type": "code",
   "execution_count": 12,
   "id": "ce397ea0-6492-4412-9b98-54444385c5de",
   "metadata": {},
   "outputs": [
    {
     "data": {
      "text/plain": [
       "'jikkij'"
      ]
     },
     "execution_count": 12,
     "metadata": {},
     "output_type": "execute_result"
    }
   ],
   "source": [
    "pos = regex.search(reg4, text).span()[0]\n",
    "text[pos: pos+6]"
   ]
  },
  {
   "cell_type": "code",
   "execution_count": null,
   "id": "150686ae-825d-4b11-8a5f-f64a950134f9",
   "metadata": {},
   "outputs": [],
   "source": []
  }
 ],
 "metadata": {
  "kernelspec": {
   "display_name": "tldl",
   "language": "python",
   "name": "tldl"
  },
  "language_info": {
   "codemirror_mode": {
    "name": "ipython",
    "version": 3
   },
   "file_extension": ".py",
   "mimetype": "text/x-python",
   "name": "python",
   "nbconvert_exporter": "python",
   "pygments_lexer": "ipython3",
   "version": "3.8.10"
  }
 },
 "nbformat": 4,
 "nbformat_minor": 5
}
