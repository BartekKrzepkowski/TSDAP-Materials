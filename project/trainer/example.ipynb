{
 "cells": [
  {
   "cell_type": "code",
   "execution_count": null,
   "id": "killing-chicago",
   "metadata": {},
   "outputs": [],
   "source": [
    "%load_ext autoreload\n",
    "%autoreload 2\n",
    "%load_ext tensorboard"
   ]
  },
  {
   "cell_type": "code",
   "execution_count": null,
   "id": "positive-seller",
   "metadata": {},
   "outputs": [],
   "source": [
    "%matplotlib inline\n",
    "\n",
    "import torch\n",
    "import torch.nn as nn\n",
    "import torch.optim as optim\n",
    "device = torch.device('cuda:0' if torch.cuda.is_available() else 'cpu')"
   ]
  },
  {
   "cell_type": "code",
   "execution_count": null,
   "id": "saving-hopkins",
   "metadata": {
    "tags": []
   },
   "outputs": [],
   "source": [
    "from trainer import Trainer, IteratorParams\n",
    "from models import AllCNN\n",
    "from loaders import loaders_example\n",
    "\n",
    "params_clearml = {\n",
    "    'web_host': 'https://app.community.clear.ml',\n",
    "    'api_host': 'https://api.community.clear.ml',\n",
    "    'files_host': 'https://files.community.clear.ml',\n",
    "    'key': 'U5OWSQ0ZCVFPTDQ96SW5',\n",
    "    'secret': 'MYPZdmpXD8VHmPKxSHwhlt3Jl0f9LDoefDYoxSqmYjYdLOrM9Z' \n",
    "}\n",
    "\n",
    "DATASET_NAME = 'cifar10'\n",
    "params_trainer = {\n",
    "    'model': AllCNN,\n",
    "    'loaders': loaders_example,\n",
    "    'criterion': torch.nn.CrossEntropyLoss,\n",
    "    'optim': torch.optim.SGD,\n",
    "    'scheduler': torch.optim.lr_scheduler.ExponentialLR,\n",
    "    'params_clearml': params_clearml,\n",
    "    'is_tensorboard': True\n",
    "}\n",
    "\n",
    "trainer = Trainer(**params_trainer)"
   ]
  },
  {
   "cell_type": "code",
   "execution_count": null,
   "id": "agreed-papua",
   "metadata": {},
   "outputs": [],
   "source": [
    "%tensorboard --logdir=data"
   ]
  },
  {
   "cell_type": "code",
   "execution_count": null,
   "id": "prospective-mileage",
   "metadata": {
    "tags": []
   },
   "outputs": [],
   "source": [
    "model_ls = [{}]\n",
    "loaders_ls = [{'batch_size':128, 'dataset_name': 'cifar10'}]\n",
    "criterion_ls = [{}]\n",
    "optim_ls = [{'lr': 0.05, 'weight_decay': 0.001}]\n",
    "scheduler_ls = [{'gamma':0.97}]\n",
    "\n",
    "iter_params = IteratorParams(model_ls, loaders_ls, criterion_ls, optim_ls, scheduler_ls)\n",
    "\n",
    "params_runs = {\n",
    "    'iter_params': iter_params,\n",
    "    'epochs': 3,\n",
    "    'exp_name': 'cifar_without_deficit',\n",
    "    'val_step': 35,\n",
    "    'verbose': False,\n",
    "    'checkpoint_save_step': 2, \n",
    "    'device': device\n",
    "}\n",
    "\n",
    "trainer.run_trainer(**params_runs)"
   ]
  },
  {
   "cell_type": "code",
   "execution_count": null,
   "id": "informative-roots",
   "metadata": {},
   "outputs": [],
   "source": [
    "device"
   ]
  },
  {
   "cell_type": "code",
   "execution_count": null,
   "id": "burning-mercy",
   "metadata": {},
   "outputs": [],
   "source": []
  }
 ],
 "metadata": {
  "kernelspec": {
   "display_name": "tren",
   "language": "python",
   "name": "tren"
  },
  "language_info": {
   "codemirror_mode": {
    "name": "ipython",
    "version": 3
   },
   "file_extension": ".py",
   "mimetype": "text/x-python",
   "name": "python",
   "nbconvert_exporter": "python",
   "pygments_lexer": "ipython3",
   "version": "3.8.10"
  }
 },
 "nbformat": 4,
 "nbformat_minor": 5
}
