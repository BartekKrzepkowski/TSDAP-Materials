{
 "cells": [
  {
   "cell_type": "markdown",
   "metadata": {},
   "source": [
    "This notebook contain exercises for classes copied form readme."
   ]
  },
  {
   "cell_type": "code",
   "execution_count": 1,
   "metadata": {},
   "outputs": [],
   "source": [
    "import numpy as np"
   ]
  },
  {
   "cell_type": "markdown",
   "metadata": {},
   "source": [
    "## Exercise 1 \n",
    "\n",
    "Fix the code, so that all ``assert`` pass."
   ]
  },
  {
   "cell_type": "code",
   "execution_count": 10,
   "metadata": {},
   "outputs": [],
   "source": [
    "arr1 = []\n",
    "arr2 = []\n",
    "assert len(arr1) == 0\n",
    "assert len(arr2) == 0\n",
    "assert np.all(arr1 != 100)\n",
    "assert np.all(arr2 != 156)\n",
    "assert np.all(arr1 + arr2 != 0)"
   ]
  },
  {
   "cell_type": "markdown",
   "metadata": {},
   "source": [
    "## Exercise 2\n",
    "\n",
    "Load data from ``data/sample.csv``; calculate mean, median and std for each column separately.\n",
    "Solve this using numpy and without numpy (or pandas etc.)\n",
    "\n",
    "Measure the time of it execution (using ``%time`` magic or ``time()`` function from ``time`` module) for each case."
   ]
  },
  {
   "cell_type": "code",
   "execution_count": 20,
   "metadata": {},
   "outputs": [],
   "source": [
    "import pandas as pd\n",
    "df = pd.read_csv('data/sample.csv', sep=' ', header=None)"
   ]
  },
  {
   "cell_type": "code",
   "execution_count": 23,
   "metadata": {},
   "outputs": [
    {
     "name": "stdout",
     "output_type": "stream",
     "text": [
      "CPU times: user 23.4 ms, sys: 127 µs, total: 23.6 ms\n",
      "Wall time: 21 ms\n"
     ]
    },
    {
     "data": {
      "text/html": [
       "<div>\n",
       "<style scoped>\n",
       "    .dataframe tbody tr th:only-of-type {\n",
       "        vertical-align: middle;\n",
       "    }\n",
       "\n",
       "    .dataframe tbody tr th {\n",
       "        vertical-align: top;\n",
       "    }\n",
       "\n",
       "    .dataframe thead th {\n",
       "        text-align: right;\n",
       "    }\n",
       "</style>\n",
       "<table border=\"1\" class=\"dataframe\">\n",
       "  <thead>\n",
       "    <tr style=\"text-align: right;\">\n",
       "      <th></th>\n",
       "      <th>0</th>\n",
       "      <th>1</th>\n",
       "      <th>2</th>\n",
       "      <th>3</th>\n",
       "      <th>4</th>\n",
       "      <th>5</th>\n",
       "      <th>6</th>\n",
       "      <th>7</th>\n",
       "      <th>8</th>\n",
       "      <th>9</th>\n",
       "    </tr>\n",
       "  </thead>\n",
       "  <tbody>\n",
       "    <tr>\n",
       "      <th>count</th>\n",
       "      <td>100.000000</td>\n",
       "      <td>100.000000</td>\n",
       "      <td>100.000000</td>\n",
       "      <td>100.000000</td>\n",
       "      <td>100.000000</td>\n",
       "      <td>100.000000</td>\n",
       "      <td>100.000000</td>\n",
       "      <td>100.000000</td>\n",
       "      <td>100.000000</td>\n",
       "      <td>100.000000</td>\n",
       "    </tr>\n",
       "    <tr>\n",
       "      <th>mean</th>\n",
       "      <td>4.950237</td>\n",
       "      <td>5.105682</td>\n",
       "      <td>6.335521</td>\n",
       "      <td>7.135616</td>\n",
       "      <td>6.165667</td>\n",
       "      <td>8.007182</td>\n",
       "      <td>7.155125</td>\n",
       "      <td>7.671688</td>\n",
       "      <td>9.486200</td>\n",
       "      <td>8.626120</td>\n",
       "    </tr>\n",
       "    <tr>\n",
       "      <th>std</th>\n",
       "      <td>3.052706</td>\n",
       "      <td>3.136568</td>\n",
       "      <td>3.554310</td>\n",
       "      <td>3.823819</td>\n",
       "      <td>3.818811</td>\n",
       "      <td>3.984624</td>\n",
       "      <td>4.640116</td>\n",
       "      <td>4.768114</td>\n",
       "      <td>4.949590</td>\n",
       "      <td>5.552116</td>\n",
       "    </tr>\n",
       "    <tr>\n",
       "      <th>min</th>\n",
       "      <td>0.175005</td>\n",
       "      <td>0.154478</td>\n",
       "      <td>0.030807</td>\n",
       "      <td>0.440015</td>\n",
       "      <td>0.379266</td>\n",
       "      <td>0.374968</td>\n",
       "      <td>0.000961</td>\n",
       "      <td>0.067342</td>\n",
       "      <td>0.295102</td>\n",
       "      <td>0.053400</td>\n",
       "    </tr>\n",
       "    <tr>\n",
       "      <th>25%</th>\n",
       "      <td>2.098424</td>\n",
       "      <td>2.220032</td>\n",
       "      <td>4.016421</td>\n",
       "      <td>3.703633</td>\n",
       "      <td>2.697510</td>\n",
       "      <td>4.666823</td>\n",
       "      <td>2.788796</td>\n",
       "      <td>4.292928</td>\n",
       "      <td>5.394147</td>\n",
       "      <td>4.146556</td>\n",
       "    </tr>\n",
       "    <tr>\n",
       "      <th>50%</th>\n",
       "      <td>4.628460</td>\n",
       "      <td>5.007021</td>\n",
       "      <td>6.416916</td>\n",
       "      <td>7.546434</td>\n",
       "      <td>6.384272</td>\n",
       "      <td>8.227743</td>\n",
       "      <td>6.596736</td>\n",
       "      <td>6.976809</td>\n",
       "      <td>9.433469</td>\n",
       "      <td>8.580686</td>\n",
       "    </tr>\n",
       "    <tr>\n",
       "      <th>75%</th>\n",
       "      <td>7.644819</td>\n",
       "      <td>7.371599</td>\n",
       "      <td>9.410600</td>\n",
       "      <td>10.468933</td>\n",
       "      <td>8.845840</td>\n",
       "      <td>10.774935</td>\n",
       "      <td>11.119779</td>\n",
       "      <td>10.866891</td>\n",
       "      <td>13.866383</td>\n",
       "      <td>13.486865</td>\n",
       "    </tr>\n",
       "    <tr>\n",
       "      <th>max</th>\n",
       "      <td>9.904395</td>\n",
       "      <td>10.991941</td>\n",
       "      <td>11.813727</td>\n",
       "      <td>12.943929</td>\n",
       "      <td>13.977270</td>\n",
       "      <td>14.971221</td>\n",
       "      <td>15.967929</td>\n",
       "      <td>16.841476</td>\n",
       "      <td>17.996654</td>\n",
       "      <td>18.992390</td>\n",
       "    </tr>\n",
       "  </tbody>\n",
       "</table>\n",
       "</div>"
      ],
      "text/plain": [
       "                0           1           2           3           4           5  \\\n",
       "count  100.000000  100.000000  100.000000  100.000000  100.000000  100.000000   \n",
       "mean     4.950237    5.105682    6.335521    7.135616    6.165667    8.007182   \n",
       "std      3.052706    3.136568    3.554310    3.823819    3.818811    3.984624   \n",
       "min      0.175005    0.154478    0.030807    0.440015    0.379266    0.374968   \n",
       "25%      2.098424    2.220032    4.016421    3.703633    2.697510    4.666823   \n",
       "50%      4.628460    5.007021    6.416916    7.546434    6.384272    8.227743   \n",
       "75%      7.644819    7.371599    9.410600   10.468933    8.845840   10.774935   \n",
       "max      9.904395   10.991941   11.813727   12.943929   13.977270   14.971221   \n",
       "\n",
       "                6           7           8           9  \n",
       "count  100.000000  100.000000  100.000000  100.000000  \n",
       "mean     7.155125    7.671688    9.486200    8.626120  \n",
       "std      4.640116    4.768114    4.949590    5.552116  \n",
       "min      0.000961    0.067342    0.295102    0.053400  \n",
       "25%      2.788796    4.292928    5.394147    4.146556  \n",
       "50%      6.596736    6.976809    9.433469    8.580686  \n",
       "75%     11.119779   10.866891   13.866383   13.486865  \n",
       "max     15.967929   16.841476   17.996654   18.992390  "
      ]
     },
     "execution_count": 23,
     "metadata": {},
     "output_type": "execute_result"
    }
   ],
   "source": [
    "%%time\n",
    "df.describe()"
   ]
  },
  {
   "cell_type": "code",
   "execution_count": 26,
   "metadata": {},
   "outputs": [
    {
     "name": "stdout",
     "output_type": "stream",
     "text": [
      "Column 0: mean: 4.9502, median: 4.6285, std 3.0527\n",
      "Column 1: mean: 5.1057, median: 5.0070, std 3.1366\n",
      "Column 2: mean: 6.3355, median: 6.4169, std 3.5543\n",
      "Column 3: mean: 7.1356, median: 7.5464, std 3.8238\n",
      "Column 4: mean: 6.1657, median: 6.3843, std 3.8188\n",
      "Column 5: mean: 8.0072, median: 8.2277, std 3.9846\n",
      "Column 6: mean: 7.1551, median: 6.5967, std 4.6401\n",
      "Column 7: mean: 7.6717, median: 6.9768, std 4.7681\n",
      "Column 8: mean: 9.4862, median: 9.4335, std 4.9496\n",
      "Column 9: mean: 8.6261, median: 8.5807, std 5.5521\n",
      "CPU times: user 7.1 ms, sys: 69 µs, total: 7.16 ms\n",
      "Wall time: 5.05 ms\n"
     ]
    }
   ],
   "source": [
    "%%time\n",
    "for col in df.columns:\n",
    "    print(f'Column {col}: mean: {df[col].mean():.4f}, median: {df[col].median():.4f}, std {df[col].std():.4f}')"
   ]
  },
  {
   "cell_type": "markdown",
   "metadata": {},
   "source": [
    "## Exercise 3\n",
    "\n",
    "Load data from ``data/ex3_data.npy`` and filter out rows with ``nan`` values.\n",
    "Report how many rows are dropped during filtration, globally and how many ``nan`` are in each column."
   ]
  },
  {
   "cell_type": "code",
   "execution_count": 35,
   "metadata": {},
   "outputs": [],
   "source": [
    "data3 = np.load('data/ex3_data.npy')"
   ]
  },
  {
   "cell_type": "code",
   "execution_count": 53,
   "metadata": {},
   "outputs": [],
   "source": [
    "data3_nonan = data3[np.isnan(data3).any(axis=1)]\n",
    "\n",
    "no_nan_rows = data3_nonan.shape[0]\n",
    "\n",
    "no_nan_cols = data3[:,np.isnan(data3).any(axis=0)].shape[1]"
   ]
  },
  {
   "cell_type": "code",
   "execution_count": 54,
   "metadata": {},
   "outputs": [
    {
     "name": "stdout",
     "output_type": "stream",
     "text": [
      "Number of dropped rows (with NaN): 10. Number of columns with NaN: 4\n"
     ]
    }
   ],
   "source": [
    "print(f'Number of dropped rows (with NaN): {no_nan_rows}. Number of columns with NaN: {no_nan_cols}')"
   ]
  },
  {
   "cell_type": "code",
   "execution_count": 56,
   "metadata": {},
   "outputs": [
    {
     "data": {
      "text/plain": [
       "array([3, 3, 4, 1])"
      ]
     },
     "execution_count": 56,
     "metadata": {},
     "output_type": "execute_result"
    }
   ],
   "source": [
    "np.isnan(data3).sum(axis=0)"
   ]
  },
  {
   "cell_type": "markdown",
   "metadata": {},
   "source": [
    "## Exercise 4\n",
    "\n",
    "Load data from ``data/iris.csv`` using ``loadtxt`` from ``numpy``. \n",
    "Skip header and name columns.\n",
    "For each column calculate: `mean`, `median` and `std` using `axis` parameter."
   ]
  },
  {
   "cell_type": "code",
   "execution_count": 101,
   "metadata": {},
   "outputs": [],
   "source": [
    "iris_data = np.loadtxt('data/iris.csv', skiprows=1, usecols=[0,1,2,3], delimiter=',')"
   ]
  },
  {
   "cell_type": "code",
   "execution_count": 103,
   "metadata": {},
   "outputs": [
    {
     "data": {
      "text/plain": [
       "array([5.84333333, 3.05733333, 3.758     , 1.19933333])"
      ]
     },
     "execution_count": 103,
     "metadata": {},
     "output_type": "execute_result"
    }
   ],
   "source": [
    "iris_data.mean(axis=0)"
   ]
  },
  {
   "cell_type": "code",
   "execution_count": 106,
   "metadata": {},
   "outputs": [
    {
     "data": {
      "text/plain": [
       "array([5.8 , 3.  , 4.35, 1.3 ])"
      ]
     },
     "execution_count": 106,
     "metadata": {},
     "output_type": "execute_result"
    }
   ],
   "source": [
    "np.median(iris_data, axis=0)"
   ]
  },
  {
   "cell_type": "code",
   "execution_count": 105,
   "metadata": {},
   "outputs": [
    {
     "data": {
      "text/plain": [
       "array([0.82530129, 0.43441097, 1.75940407, 0.75969263])"
      ]
     },
     "execution_count": 105,
     "metadata": {},
     "output_type": "execute_result"
    }
   ],
   "source": [
    "iris_data.std(axis=0)"
   ]
  },
  {
   "cell_type": "markdown",
   "metadata": {},
   "source": [
    "## Exercise 5\n",
    "\n",
    "Load data from ``data/sample_treated.npz``. \n",
    "Assume that each row of the ``outputs`` array contains information about the size of some structure traced in time.\n",
    "We would like to know which object grows doubles its size during observation.\n"
   ]
  },
  {
   "cell_type": "code",
   "execution_count": 78,
   "metadata": {},
   "outputs": [],
   "source": [
    "data5 = np.load('data/sample_treated.npz')\n",
    "outputs = data5['outputs']"
   ]
  },
  {
   "cell_type": "code",
   "execution_count": 84,
   "metadata": {},
   "outputs": [],
   "source": [
    "for i in range(outputs.shape[0]-1):\n",
    "    if np.array_equal(outputs[i+1], 2*outputs[i]):\n",
    "        print(outputs[i])"
   ]
  }
 ],
 "metadata": {
  "kernelspec": {
   "display_name": "Python 3 (ipykernel)",
   "language": "python",
   "name": "python3"
  },
  "language_info": {
   "codemirror_mode": {
    "name": "ipython",
    "version": 3
   },
   "file_extension": ".py",
   "mimetype": "text/x-python",
   "name": "python",
   "nbconvert_exporter": "python",
   "pygments_lexer": "ipython3",
   "version": "3.8.10"
  }
 },
 "nbformat": 4,
 "nbformat_minor": 4
}
