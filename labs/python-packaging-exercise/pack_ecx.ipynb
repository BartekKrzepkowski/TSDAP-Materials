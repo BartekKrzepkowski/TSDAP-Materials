{
 "cells": [
  {
   "cell_type": "code",
   "execution_count": 1,
   "id": "f13f3609-efb5-499f-b8cb-f8e980cdbe99",
   "metadata": {},
   "outputs": [],
   "source": [
    "import hw_pack"
   ]
  },
  {
   "cell_type": "code",
   "execution_count": 2,
   "id": "8e20a8e1-006e-45d8-8a0e-9dfdf8665733",
   "metadata": {},
   "outputs": [
    {
     "data": {
      "text/plain": [
       "array([[0., 0., 0., 0., 0., 0., 0.],\n",
       "       [0., 0., 0., 0., 0., 0., 0.],\n",
       "       [0., 0., 0., 0., 0., 0., 0.],\n",
       "       [0., 0., 0., 0., 0., 0., 0.]])"
      ]
     },
     "execution_count": 2,
     "metadata": {},
     "output_type": "execute_result"
    }
   ],
   "source": [
    "hw_pack.some_calculation_function()"
   ]
  },
  {
   "cell_type": "code",
   "execution_count": 3,
   "id": "a60fe1b9-6808-4496-b4b8-d07e896af2b9",
   "metadata": {},
   "outputs": [
    {
     "data": {
      "text/plain": [
       "18"
      ]
     },
     "execution_count": 3,
     "metadata": {},
     "output_type": "execute_result"
    }
   ],
   "source": [
    "hw_pack.some_calculation_function2()"
   ]
  },
  {
   "cell_type": "code",
   "execution_count": null,
   "id": "01adb3f8-e221-4531-8945-735de3edf969",
   "metadata": {},
   "outputs": [],
   "source": []
  }
 ],
 "metadata": {
  "kernelspec": {
   "display_name": "pack_exc",
   "language": "python",
   "name": "pack_exc"
  },
  "language_info": {
   "codemirror_mode": {
    "name": "ipython",
    "version": 3
   },
   "file_extension": ".py",
   "mimetype": "text/x-python",
   "name": "python",
   "nbconvert_exporter": "python",
   "pygments_lexer": "ipython3",
   "version": "3.8.10"
  }
 },
 "nbformat": 4,
 "nbformat_minor": 5
}
