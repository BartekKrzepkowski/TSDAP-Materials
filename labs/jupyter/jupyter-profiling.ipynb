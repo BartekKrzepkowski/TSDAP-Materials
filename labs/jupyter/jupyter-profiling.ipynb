{
 "cells": [
  {
   "cell_type": "markdown",
   "metadata": {
    "pycharm": {
     "name": "#%%\n"
    }
   },
   "source": [
    "https://ipython.readthedocs.io/en/stable/interactive/magics.html"
   ]
  },
  {
   "cell_type": "code",
   "execution_count": 1,
   "metadata": {},
   "outputs": [],
   "source": [
    "count = 100000"
   ]
  },
  {
   "cell_type": "code",
   "execution_count": 2,
   "metadata": {
    "pycharm": {
     "name": "#%%\n"
    }
   },
   "outputs": [
    {
     "name": "stdout",
     "output_type": "stream",
     "text": [
      "CPU times: user 26 ms, sys: 3.74 ms, total: 29.8 ms\n",
      "Wall time: 28.8 ms\n"
     ]
    }
   ],
   "source": [
    "%%time\n",
    "squares = [x**2 for x in range(count)]"
   ]
  },
  {
   "cell_type": "code",
   "execution_count": 27,
   "metadata": {
    "pycharm": {
     "name": "#%%\n"
    }
   },
   "outputs": [],
   "source": [
    "%%timeit \n",
    "squares = []\n",
    "\n",
    "for x in range(count):\n",
    "    squares.append(x**2)"
   ]
  },
  {
   "cell_type": "code",
   "execution_count": 25,
   "metadata": {},
   "outputs": [
    {
     "name": "stdout",
     "output_type": "stream",
     "text": [
      "CPU times: user 8 µs, sys: 0 ns, total: 8 µs\n",
      "Wall time: 14.3 µs\n"
     ]
    }
   ],
   "source": [
    "%time \n",
    "reversed_list = list(reversed(squares))"
   ]
  },
  {
   "cell_type": "code",
   "execution_count": 26,
   "metadata": {},
   "outputs": [
    {
     "name": "stdout",
     "output_type": "stream",
     "text": [
      "CPU times: user 922 µs, sys: 21 µs, total: 943 µs\n",
      "Wall time: 953 µs\n"
     ]
    }
   ],
   "source": [
    "%%time \n",
    "reversed_list = list(reversed(squares))"
   ]
  },
  {
   "cell_type": "code",
   "execution_count": 5,
   "metadata": {},
   "outputs": [
    {
     "name": "stdout",
     "output_type": "stream",
     "text": [
      "CPU times: user 9.54 ms, sys: 176 µs, total: 9.72 ms\n",
      "Wall time: 9.31 ms\n"
     ]
    }
   ],
   "source": [
    "%%time \n",
    "reversed_list = []\n",
    "for x in squares:\n",
    "    reversed_list.insert(x, 0)"
   ]
  },
  {
   "cell_type": "code",
   "execution_count": 6,
   "metadata": {},
   "outputs": [],
   "source": [
    "from code_for_profile import create_que, generate_data, perform\n",
    "\n",
    "data = generate_data()"
   ]
  },
  {
   "cell_type": "code",
   "execution_count": 8,
   "metadata": {},
   "outputs": [
    {
     "name": "stdout",
     "output_type": "stream",
     "text": [
      " "
     ]
    },
    {
     "data": {
      "text/plain": [
       "         490077 function calls in 2.253 seconds\n",
       "\n",
       "   Ordered by: internal time\n",
       "\n",
       "   ncalls  tottime  percall  cumtime  percall filename:lineno(function)\n",
       "    30024    2.046    0.000    2.046    0.000 {built-in method builtins.sorted}\n",
       "    30024    0.100    0.000    2.151    0.000 code_for_profile.py:13(get_from_queue)\n",
       "        1    0.044    0.044    2.251    2.251 code_for_profile.py:29(perform)\n",
       "   200000    0.042    0.000    0.056    0.000 code_for_profile.py:9(put_in_priority_que)\n",
       "   200000    0.014    0.000    0.014    0.000 {method 'append' of 'list' objects}\n",
       "    30024    0.006    0.000    0.006    0.000 {method 'pop' of 'list' objects}\n",
       "        1    0.002    0.002    2.253    2.253 <string>:1(<module>)\n",
       "        1    0.000    0.000    2.253    2.253 {built-in method builtins.exec}\n",
       "        1    0.000    0.000    0.000    0.000 code_for_profile.py:5(create_que)\n",
       "        1    0.000    0.000    0.000    0.000 {method 'disable' of '_lsprof.Profiler' objects}"
      ]
     },
     "metadata": {},
     "output_type": "display_data"
    }
   ],
   "source": [
    "%prun perform(create_que(), data)"
   ]
  },
  {
   "cell_type": "code",
   "execution_count": 9,
   "metadata": {},
   "outputs": [],
   "source": [
    "import cProfile"
   ]
  },
  {
   "cell_type": "code",
   "execution_count": 10,
   "metadata": {},
   "outputs": [
    {
     "name": "stdout",
     "output_type": "stream",
     "text": [
      "         490076 function calls in 2.278 seconds\n",
      "\n",
      "   Ordered by: standard name\n",
      "\n",
      "   ncalls  tottime  percall  cumtime  percall filename:lineno(function)\n",
      "        1    0.000    0.000    0.000    0.000 cProfile.py:133(__exit__)\n",
      "    30024    0.100    0.000    2.161    0.000 code_for_profile.py:13(get_from_queue)\n",
      "        1    0.051    0.051    2.278    2.278 code_for_profile.py:29(perform)\n",
      "        1    0.000    0.000    0.000    0.000 code_for_profile.py:5(create_que)\n",
      "   200000    0.050    0.000    0.066    0.000 code_for_profile.py:9(put_in_priority_que)\n",
      "    30024    2.055    0.000    2.055    0.000 {built-in method builtins.sorted}\n",
      "   200000    0.016    0.000    0.016    0.000 {method 'append' of 'list' objects}\n",
      "        1    0.000    0.000    0.000    0.000 {method 'disable' of '_lsprof.Profiler' objects}\n",
      "    30024    0.006    0.000    0.006    0.000 {method 'pop' of 'list' objects}\n",
      "\n",
      "\n"
     ]
    }
   ],
   "source": [
    "with cProfile.Profile() as prof:\n",
    "    perform(create_que(), data)\n",
    "prof.print_stats()"
   ]
  },
  {
   "cell_type": "code",
   "execution_count": 11,
   "metadata": {},
   "outputs": [
    {
     "name": "stdout",
     "output_type": "stream",
     "text": [
      "Collecting snakeviz\n",
      "  Downloading snakeviz-2.1.1-py2.py3-none-any.whl (282 kB)\n",
      "     |████████████████████████████████| 282 kB 2.2 MB/s            \n",
      "\u001b[?25hRequirement already satisfied: tornado>=2.0 in /home/bartekkrzepkowski/.virtualenvs/tldl/lib/python3.8/site-packages (from snakeviz) (6.1)\n",
      "Installing collected packages: snakeviz\n",
      "Successfully installed snakeviz-2.1.1\n",
      "\u001b[33mWARNING: You are using pip version 21.3.1; however, version 22.0.3 is available.\n",
      "You should consider upgrading via the '/home/bartekkrzepkowski/.virtualenvs/tldl/bin/python -m pip install --upgrade pip' command.\u001b[0m\n"
     ]
    }
   ],
   "source": [
    "!pip install snakeviz"
   ]
  },
  {
   "cell_type": "code",
   "execution_count": 12,
   "metadata": {},
   "outputs": [],
   "source": [
    "%load_ext snakeviz"
   ]
  },
  {
   "cell_type": "code",
   "execution_count": 13,
   "metadata": {},
   "outputs": [
    {
     "name": "stdout",
     "output_type": "stream",
     "text": [
      " \n",
      "*** Profile stats marshalled to file '/tmp/tmpg1cjd2z_'. \n",
      "Embedding SnakeViz in this document...\n"
     ]
    },
    {
     "data": {
      "text/html": [
       "\n",
       "<iframe id='snakeviz-0f280798-9a73-11ec-9367-831bc14d0792' frameborder=0 seamless width='100%' height='1000'></iframe>\n",
       "<script>document.getElementById(\"snakeviz-0f280798-9a73-11ec-9367-831bc14d0792\").setAttribute(\"src\", \"http://\" + document.location.hostname + \":8080/snakeviz/%2Ftmp%2Ftmpg1cjd2z_\")</script>\n"
      ],
      "text/plain": [
       "<IPython.core.display.HTML object>"
      ]
     },
     "metadata": {},
     "output_type": "display_data"
    }
   ],
   "source": [
    "%snakeviz perform(create_que(), data)"
   ]
  },
  {
   "cell_type": "code",
   "execution_count": null,
   "metadata": {},
   "outputs": [],
   "source": []
  }
 ],
 "metadata": {
  "kernelspec": {
   "display_name": "Python 3 (ipykernel)",
   "language": "python",
   "name": "python3"
  },
  "language_info": {
   "codemirror_mode": {
    "name": "ipython",
    "version": 3
   },
   "file_extension": ".py",
   "mimetype": "text/x-python",
   "name": "python",
   "nbconvert_exporter": "python",
   "pygments_lexer": "ipython3",
   "version": "3.8.10"
  }
 },
 "nbformat": 4,
 "nbformat_minor": 4
}
